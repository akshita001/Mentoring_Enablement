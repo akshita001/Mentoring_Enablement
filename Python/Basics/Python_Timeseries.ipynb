{
 "cells": [
  {
   "cell_type": "code",
   "execution_count": 1,
   "metadata": {},
   "outputs": [],
   "source": [
    "## Python basics - Timeseries data\n",
    "\n",
    "import pandas as pd\n",
    "import numpy as np\n",
    "import matplotlib.pyplot as plt"
   ]
  },
  {
   "cell_type": "code",
   "execution_count": 2,
   "metadata": {},
   "outputs": [],
   "source": [
    "amazon = pd.read_csv('/Users/kamal/Desktop/work/20_JupyterNotebooks/Data/amazon.csv')"
   ]
  },
  {
   "cell_type": "code",
   "execution_count": 3,
   "metadata": {},
   "outputs": [
    {
     "data": {
      "text/html": [
       "<div>\n",
       "<style scoped>\n",
       "    .dataframe tbody tr th:only-of-type {\n",
       "        vertical-align: middle;\n",
       "    }\n",
       "\n",
       "    .dataframe tbody tr th {\n",
       "        vertical-align: top;\n",
       "    }\n",
       "\n",
       "    .dataframe thead th {\n",
       "        text-align: right;\n",
       "    }\n",
       "</style>\n",
       "<table border=\"1\" class=\"dataframe\">\n",
       "  <thead>\n",
       "    <tr style=\"text-align: right;\">\n",
       "      <th></th>\n",
       "      <th>Date</th>\n",
       "      <th>Open</th>\n",
       "      <th>High</th>\n",
       "      <th>Low</th>\n",
       "      <th>Close</th>\n",
       "      <th>Adj Close</th>\n",
       "    </tr>\n",
       "  </thead>\n",
       "  <tbody>\n",
       "    <tr>\n",
       "      <td>0</td>\n",
       "      <td>5/15/97</td>\n",
       "      <td>2.437500</td>\n",
       "      <td>2.500000</td>\n",
       "      <td>1.927083</td>\n",
       "      <td>1.958333</td>\n",
       "      <td>1.958333</td>\n",
       "    </tr>\n",
       "    <tr>\n",
       "      <td>1</td>\n",
       "      <td>5/16/97</td>\n",
       "      <td>1.968750</td>\n",
       "      <td>1.979167</td>\n",
       "      <td>1.708333</td>\n",
       "      <td>1.729167</td>\n",
       "      <td>1.729167</td>\n",
       "    </tr>\n",
       "    <tr>\n",
       "      <td>2</td>\n",
       "      <td>5/19/97</td>\n",
       "      <td>1.760417</td>\n",
       "      <td>1.770833</td>\n",
       "      <td>1.625000</td>\n",
       "      <td>1.708333</td>\n",
       "      <td>1.708333</td>\n",
       "    </tr>\n",
       "    <tr>\n",
       "      <td>3</td>\n",
       "      <td>5/20/97</td>\n",
       "      <td>1.729167</td>\n",
       "      <td>1.750000</td>\n",
       "      <td>1.635417</td>\n",
       "      <td>1.635417</td>\n",
       "      <td>1.635417</td>\n",
       "    </tr>\n",
       "    <tr>\n",
       "      <td>4</td>\n",
       "      <td>5/21/97</td>\n",
       "      <td>1.635417</td>\n",
       "      <td>1.645833</td>\n",
       "      <td>1.375000</td>\n",
       "      <td>1.427083</td>\n",
       "      <td>1.427083</td>\n",
       "    </tr>\n",
       "  </tbody>\n",
       "</table>\n",
       "</div>"
      ],
      "text/plain": [
       "      Date      Open      High       Low     Close  Adj Close\n",
       "0  5/15/97  2.437500  2.500000  1.927083  1.958333   1.958333\n",
       "1  5/16/97  1.968750  1.979167  1.708333  1.729167   1.729167\n",
       "2  5/19/97  1.760417  1.770833  1.625000  1.708333   1.708333\n",
       "3  5/20/97  1.729167  1.750000  1.635417  1.635417   1.635417\n",
       "4  5/21/97  1.635417  1.645833  1.375000  1.427083   1.427083"
      ]
     },
     "execution_count": 3,
     "metadata": {},
     "output_type": "execute_result"
    }
   ],
   "source": [
    "amazon.head()"
   ]
  },
  {
   "cell_type": "code",
   "execution_count": 4,
   "metadata": {},
   "outputs": [
    {
     "data": {
      "text/html": [
       "<div>\n",
       "<style scoped>\n",
       "    .dataframe tbody tr th:only-of-type {\n",
       "        vertical-align: middle;\n",
       "    }\n",
       "\n",
       "    .dataframe tbody tr th {\n",
       "        vertical-align: top;\n",
       "    }\n",
       "\n",
       "    .dataframe thead th {\n",
       "        text-align: right;\n",
       "    }\n",
       "</style>\n",
       "<table border=\"1\" class=\"dataframe\">\n",
       "  <thead>\n",
       "    <tr style=\"text-align: right;\">\n",
       "      <th></th>\n",
       "      <th>Date</th>\n",
       "      <th>Open</th>\n",
       "      <th>High</th>\n",
       "      <th>Low</th>\n",
       "      <th>Close</th>\n",
       "      <th>Adj Close</th>\n",
       "    </tr>\n",
       "  </thead>\n",
       "  <tbody>\n",
       "    <tr>\n",
       "      <td>5524</td>\n",
       "      <td>4/30/19</td>\n",
       "      <td>1930.099976</td>\n",
       "      <td>1935.709961</td>\n",
       "      <td>1906.949951</td>\n",
       "      <td>1926.520020</td>\n",
       "      <td>1926.520020</td>\n",
       "    </tr>\n",
       "    <tr>\n",
       "      <td>5525</td>\n",
       "      <td>5/1/19</td>\n",
       "      <td>1933.089966</td>\n",
       "      <td>1943.640015</td>\n",
       "      <td>1910.550049</td>\n",
       "      <td>1911.520020</td>\n",
       "      <td>1911.520020</td>\n",
       "    </tr>\n",
       "    <tr>\n",
       "      <td>5526</td>\n",
       "      <td>5/2/19</td>\n",
       "      <td>1913.329956</td>\n",
       "      <td>1921.550049</td>\n",
       "      <td>1881.869995</td>\n",
       "      <td>1900.819946</td>\n",
       "      <td>1900.819946</td>\n",
       "    </tr>\n",
       "    <tr>\n",
       "      <td>5527</td>\n",
       "      <td>5/3/19</td>\n",
       "      <td>1949.000000</td>\n",
       "      <td>1964.400024</td>\n",
       "      <td>1936.000000</td>\n",
       "      <td>1962.459961</td>\n",
       "      <td>1962.459961</td>\n",
       "    </tr>\n",
       "    <tr>\n",
       "      <td>5528</td>\n",
       "      <td>5/6/19</td>\n",
       "      <td>1917.979980</td>\n",
       "      <td>1959.000000</td>\n",
       "      <td>1910.500000</td>\n",
       "      <td>1950.550049</td>\n",
       "      <td>1950.550049</td>\n",
       "    </tr>\n",
       "  </tbody>\n",
       "</table>\n",
       "</div>"
      ],
      "text/plain": [
       "         Date         Open         High          Low        Close    Adj Close\n",
       "5524  4/30/19  1930.099976  1935.709961  1906.949951  1926.520020  1926.520020\n",
       "5525   5/1/19  1933.089966  1943.640015  1910.550049  1911.520020  1911.520020\n",
       "5526   5/2/19  1913.329956  1921.550049  1881.869995  1900.819946  1900.819946\n",
       "5527   5/3/19  1949.000000  1964.400024  1936.000000  1962.459961  1962.459961\n",
       "5528   5/6/19  1917.979980  1959.000000  1910.500000  1950.550049  1950.550049"
      ]
     },
     "execution_count": 4,
     "metadata": {},
     "output_type": "execute_result"
    }
   ],
   "source": [
    "amazon.tail()"
   ]
  },
  {
   "cell_type": "code",
   "execution_count": 5,
   "metadata": {},
   "outputs": [
    {
     "data": {
      "text/plain": [
       "(5529, 6)"
      ]
     },
     "execution_count": 5,
     "metadata": {},
     "output_type": "execute_result"
    }
   ],
   "source": [
    "amazon.shape"
   ]
  },
  {
   "cell_type": "code",
   "execution_count": 6,
   "metadata": {},
   "outputs": [
    {
     "data": {
      "text/plain": [
       "RangeIndex(start=0, stop=5529, step=1)"
      ]
     },
     "execution_count": 6,
     "metadata": {},
     "output_type": "execute_result"
    }
   ],
   "source": [
    "amazon.index"
   ]
  },
  {
   "cell_type": "code",
   "execution_count": 7,
   "metadata": {},
   "outputs": [
    {
     "data": {
      "text/plain": [
       "0    5/15/97\n",
       "1    5/16/97\n",
       "2    5/19/97\n",
       "3    5/20/97\n",
       "4    5/21/97\n",
       "Name: Date, dtype: object"
      ]
     },
     "execution_count": 7,
     "metadata": {},
     "output_type": "execute_result"
    }
   ],
   "source": [
    "amazon['Date'].head()"
   ]
  },
  {
   "cell_type": "code",
   "execution_count": 8,
   "metadata": {},
   "outputs": [
    {
     "data": {
      "text/plain": [
       "DatetimeIndex(['1997-05-15', '1997-05-16', '1997-05-19', '1997-05-20',\n",
       "               '1997-05-21', '1997-05-22', '1997-05-23', '1997-05-27',\n",
       "               '1997-05-28', '1997-05-29',\n",
       "               ...\n",
       "               '2019-04-23', '2019-04-24', '2019-04-25', '2019-04-26',\n",
       "               '2019-04-29', '2019-04-30', '2019-05-01', '2019-05-02',\n",
       "               '2019-05-03', '2019-05-06'],\n",
       "              dtype='datetime64[ns]', name='Date', length=5529, freq=None)"
      ]
     },
     "execution_count": 8,
     "metadata": {},
     "output_type": "execute_result"
    }
   ],
   "source": [
    "# Modify index to Date value and use that as index \n",
    "amazon.index = pd.to_datetime(amazon['Date'])\n",
    "\n",
    "amazon.index"
   ]
  },
  {
   "cell_type": "code",
   "execution_count": 9,
   "metadata": {},
   "outputs": [
    {
     "data": {
      "text/html": [
       "<div>\n",
       "<style scoped>\n",
       "    .dataframe tbody tr th:only-of-type {\n",
       "        vertical-align: middle;\n",
       "    }\n",
       "\n",
       "    .dataframe tbody tr th {\n",
       "        vertical-align: top;\n",
       "    }\n",
       "\n",
       "    .dataframe thead th {\n",
       "        text-align: right;\n",
       "    }\n",
       "</style>\n",
       "<table border=\"1\" class=\"dataframe\">\n",
       "  <thead>\n",
       "    <tr style=\"text-align: right;\">\n",
       "      <th></th>\n",
       "      <th>Date</th>\n",
       "      <th>Open</th>\n",
       "      <th>High</th>\n",
       "      <th>Low</th>\n",
       "      <th>Close</th>\n",
       "      <th>Adj Close</th>\n",
       "    </tr>\n",
       "    <tr>\n",
       "      <th>Date</th>\n",
       "      <th></th>\n",
       "      <th></th>\n",
       "      <th></th>\n",
       "      <th></th>\n",
       "      <th></th>\n",
       "      <th></th>\n",
       "    </tr>\n",
       "  </thead>\n",
       "  <tbody>\n",
       "    <tr>\n",
       "      <td>1997-05-15</td>\n",
       "      <td>5/15/97</td>\n",
       "      <td>2.437500</td>\n",
       "      <td>2.500000</td>\n",
       "      <td>1.927083</td>\n",
       "      <td>1.958333</td>\n",
       "      <td>1.958333</td>\n",
       "    </tr>\n",
       "    <tr>\n",
       "      <td>1997-05-16</td>\n",
       "      <td>5/16/97</td>\n",
       "      <td>1.968750</td>\n",
       "      <td>1.979167</td>\n",
       "      <td>1.708333</td>\n",
       "      <td>1.729167</td>\n",
       "      <td>1.729167</td>\n",
       "    </tr>\n",
       "    <tr>\n",
       "      <td>1997-05-19</td>\n",
       "      <td>5/19/97</td>\n",
       "      <td>1.760417</td>\n",
       "      <td>1.770833</td>\n",
       "      <td>1.625000</td>\n",
       "      <td>1.708333</td>\n",
       "      <td>1.708333</td>\n",
       "    </tr>\n",
       "    <tr>\n",
       "      <td>1997-05-20</td>\n",
       "      <td>5/20/97</td>\n",
       "      <td>1.729167</td>\n",
       "      <td>1.750000</td>\n",
       "      <td>1.635417</td>\n",
       "      <td>1.635417</td>\n",
       "      <td>1.635417</td>\n",
       "    </tr>\n",
       "    <tr>\n",
       "      <td>1997-05-21</td>\n",
       "      <td>5/21/97</td>\n",
       "      <td>1.635417</td>\n",
       "      <td>1.645833</td>\n",
       "      <td>1.375000</td>\n",
       "      <td>1.427083</td>\n",
       "      <td>1.427083</td>\n",
       "    </tr>\n",
       "  </tbody>\n",
       "</table>\n",
       "</div>"
      ],
      "text/plain": [
       "               Date      Open      High       Low     Close  Adj Close\n",
       "Date                                                                  \n",
       "1997-05-15  5/15/97  2.437500  2.500000  1.927083  1.958333   1.958333\n",
       "1997-05-16  5/16/97  1.968750  1.979167  1.708333  1.729167   1.729167\n",
       "1997-05-19  5/19/97  1.760417  1.770833  1.625000  1.708333   1.708333\n",
       "1997-05-20  5/20/97  1.729167  1.750000  1.635417  1.635417   1.635417\n",
       "1997-05-21  5/21/97  1.635417  1.645833  1.375000  1.427083   1.427083"
      ]
     },
     "execution_count": 9,
     "metadata": {},
     "output_type": "execute_result"
    }
   ],
   "source": [
    "amazon.head()"
   ]
  },
  {
   "cell_type": "code",
   "execution_count": 10,
   "metadata": {},
   "outputs": [
    {
     "data": {
      "text/html": [
       "<div>\n",
       "<style scoped>\n",
       "    .dataframe tbody tr th:only-of-type {\n",
       "        vertical-align: middle;\n",
       "    }\n",
       "\n",
       "    .dataframe tbody tr th {\n",
       "        vertical-align: top;\n",
       "    }\n",
       "\n",
       "    .dataframe thead th {\n",
       "        text-align: right;\n",
       "    }\n",
       "</style>\n",
       "<table border=\"1\" class=\"dataframe\">\n",
       "  <thead>\n",
       "    <tr style=\"text-align: right;\">\n",
       "      <th></th>\n",
       "      <th>Open</th>\n",
       "      <th>High</th>\n",
       "      <th>Low</th>\n",
       "      <th>Close</th>\n",
       "      <th>Adj Close</th>\n",
       "    </tr>\n",
       "    <tr>\n",
       "      <th>Date</th>\n",
       "      <th></th>\n",
       "      <th></th>\n",
       "      <th></th>\n",
       "      <th></th>\n",
       "      <th></th>\n",
       "    </tr>\n",
       "  </thead>\n",
       "  <tbody>\n",
       "    <tr>\n",
       "      <td>1997-05-15</td>\n",
       "      <td>2.437500</td>\n",
       "      <td>2.500000</td>\n",
       "      <td>1.927083</td>\n",
       "      <td>1.958333</td>\n",
       "      <td>1.958333</td>\n",
       "    </tr>\n",
       "    <tr>\n",
       "      <td>1997-05-16</td>\n",
       "      <td>1.968750</td>\n",
       "      <td>1.979167</td>\n",
       "      <td>1.708333</td>\n",
       "      <td>1.729167</td>\n",
       "      <td>1.729167</td>\n",
       "    </tr>\n",
       "    <tr>\n",
       "      <td>1997-05-19</td>\n",
       "      <td>1.760417</td>\n",
       "      <td>1.770833</td>\n",
       "      <td>1.625000</td>\n",
       "      <td>1.708333</td>\n",
       "      <td>1.708333</td>\n",
       "    </tr>\n",
       "    <tr>\n",
       "      <td>1997-05-20</td>\n",
       "      <td>1.729167</td>\n",
       "      <td>1.750000</td>\n",
       "      <td>1.635417</td>\n",
       "      <td>1.635417</td>\n",
       "      <td>1.635417</td>\n",
       "    </tr>\n",
       "    <tr>\n",
       "      <td>1997-05-21</td>\n",
       "      <td>1.635417</td>\n",
       "      <td>1.645833</td>\n",
       "      <td>1.375000</td>\n",
       "      <td>1.427083</td>\n",
       "      <td>1.427083</td>\n",
       "    </tr>\n",
       "  </tbody>\n",
       "</table>\n",
       "</div>"
      ],
      "text/plain": [
       "                Open      High       Low     Close  Adj Close\n",
       "Date                                                         \n",
       "1997-05-15  2.437500  2.500000  1.927083  1.958333   1.958333\n",
       "1997-05-16  1.968750  1.979167  1.708333  1.729167   1.729167\n",
       "1997-05-19  1.760417  1.770833  1.625000  1.708333   1.708333\n",
       "1997-05-20  1.729167  1.750000  1.635417  1.635417   1.635417\n",
       "1997-05-21  1.635417  1.645833  1.375000  1.427083   1.427083"
      ]
     },
     "execution_count": 10,
     "metadata": {},
     "output_type": "execute_result"
    }
   ],
   "source": [
    "# We don't need separate Date column now and hence can be deleted\n",
    "del amazon[\"Date\"]\n",
    "\n",
    "amazon.head()"
   ]
  },
  {
   "cell_type": "code",
   "execution_count": 11,
   "metadata": {},
   "outputs": [
    {
     "data": {
      "text/html": [
       "<div>\n",
       "<style scoped>\n",
       "    .dataframe tbody tr th:only-of-type {\n",
       "        vertical-align: middle;\n",
       "    }\n",
       "\n",
       "    .dataframe tbody tr th {\n",
       "        vertical-align: top;\n",
       "    }\n",
       "\n",
       "    .dataframe thead th {\n",
       "        text-align: right;\n",
       "    }\n",
       "</style>\n",
       "<table border=\"1\" class=\"dataframe\">\n",
       "  <thead>\n",
       "    <tr style=\"text-align: right;\">\n",
       "      <th></th>\n",
       "      <th>Open</th>\n",
       "      <th>High</th>\n",
       "      <th>Low</th>\n",
       "      <th>Close</th>\n",
       "      <th>Adj Close</th>\n",
       "    </tr>\n",
       "    <tr>\n",
       "      <th>Date</th>\n",
       "      <th></th>\n",
       "      <th></th>\n",
       "      <th></th>\n",
       "      <th></th>\n",
       "      <th></th>\n",
       "    </tr>\n",
       "  </thead>\n",
       "  <tbody>\n",
       "    <tr>\n",
       "      <td>2019-04-30</td>\n",
       "      <td>1930.099976</td>\n",
       "      <td>1935.709961</td>\n",
       "      <td>1906.949951</td>\n",
       "      <td>1926.520020</td>\n",
       "      <td>1926.520020</td>\n",
       "    </tr>\n",
       "    <tr>\n",
       "      <td>2019-05-01</td>\n",
       "      <td>1933.089966</td>\n",
       "      <td>1943.640015</td>\n",
       "      <td>1910.550049</td>\n",
       "      <td>1911.520020</td>\n",
       "      <td>1911.520020</td>\n",
       "    </tr>\n",
       "    <tr>\n",
       "      <td>2019-05-02</td>\n",
       "      <td>1913.329956</td>\n",
       "      <td>1921.550049</td>\n",
       "      <td>1881.869995</td>\n",
       "      <td>1900.819946</td>\n",
       "      <td>1900.819946</td>\n",
       "    </tr>\n",
       "    <tr>\n",
       "      <td>2019-05-03</td>\n",
       "      <td>1949.000000</td>\n",
       "      <td>1964.400024</td>\n",
       "      <td>1936.000000</td>\n",
       "      <td>1962.459961</td>\n",
       "      <td>1962.459961</td>\n",
       "    </tr>\n",
       "    <tr>\n",
       "      <td>2019-05-06</td>\n",
       "      <td>1917.979980</td>\n",
       "      <td>1959.000000</td>\n",
       "      <td>1910.500000</td>\n",
       "      <td>1950.550049</td>\n",
       "      <td>1950.550049</td>\n",
       "    </tr>\n",
       "  </tbody>\n",
       "</table>\n",
       "</div>"
      ],
      "text/plain": [
       "                   Open         High          Low        Close    Adj Close\n",
       "Date                                                                       \n",
       "2019-04-30  1930.099976  1935.709961  1906.949951  1926.520020  1926.520020\n",
       "2019-05-01  1933.089966  1943.640015  1910.550049  1911.520020  1911.520020\n",
       "2019-05-02  1913.329956  1921.550049  1881.869995  1900.819946  1900.819946\n",
       "2019-05-03  1949.000000  1964.400024  1936.000000  1962.459961  1962.459961\n",
       "2019-05-06  1917.979980  1959.000000  1910.500000  1950.550049  1950.550049"
      ]
     },
     "execution_count": 11,
     "metadata": {},
     "output_type": "execute_result"
    }
   ],
   "source": [
    "amazon.tail()"
   ]
  },
  {
   "cell_type": "code",
   "execution_count": 13,
   "metadata": {},
   "outputs": [
    {
     "data": {
      "image/png": "[encoded data removed]",
      "text/plain": [
       "<Figure size 936x432 with 1 Axes>"
      ]
     },
     "metadata": {
      "needs_background": "light"
     },
     "output_type": "display_data"
    }
   ],
   "source": [
    "amazon['Adj Close'].plot(kind = 'line',\n",
    "                        figsize=(13,6))\n",
    "plt.ylabel('Amazon Stock Close Price')\n",
    "plt.xlabel('Year')\n",
    "\n",
    "plt.show()"
   ]
  },
  {
   "cell_type": "code",
   "execution_count": 14,
   "metadata": {},
   "outputs": [
    {
     "data": {
      "text/plain": [
       "51.25"
      ]
     },
     "execution_count": 14,
     "metadata": {},
     "output_type": "execute_result"
    }
   ],
   "source": [
    "amazon['Adj Close']['2008-12-12']"
   ]
  },
  {
   "cell_type": "code",
   "execution_count": 15,
   "metadata": {},
   "outputs": [
    {
     "data": {
      "text/plain": [
       "1673.569946"
      ]
     },
     "execution_count": 15,
     "metadata": {},
     "output_type": "execute_result"
    }
   ],
   "source": [
    "amazon['Adj Close']['2018-11-29']"
   ]
  },
  {
   "cell_type": "code",
   "execution_count": 18,
   "metadata": {},
   "outputs": [
    {
     "data": {
      "text/plain": [
       "Date\n",
       "1997-05-31    1.588542\n",
       "1997-06-30    1.537699\n",
       "1997-07-31    2.205493\n",
       "1997-08-31    2.231399\n",
       "1997-09-30    3.492560\n",
       "1997-10-31    4.267437\n",
       "1997-11-30    4.378564\n",
       "1997-12-31    4.563210\n",
       "1998-01-31    4.803906\n",
       "1998-02-28    5.297423\n",
       "Freq: M, Name: Adj Close, dtype: float64"
      ]
     },
     "execution_count": 18,
     "metadata": {},
     "output_type": "execute_result"
    }
   ],
   "source": [
    "# Month wise aggregation and getting mean/avergae by month\n",
    "# Last tradinng day per each month is shown\n",
    "monthly_mean = amazon['Adj Close'].resample('M').mean()\n",
    "\n",
    "monthly_mean.head(10)"
   ]
  },
  {
   "cell_type": "code",
   "execution_count": 19,
   "metadata": {},
   "outputs": [
    {
     "data": {
      "text/plain": [
       "Date\n",
       "1997-05-31    1.531250\n",
       "1997-06-30    1.510417\n",
       "1997-07-31    2.276042\n",
       "1997-08-31    2.208333\n",
       "1997-09-30    3.354167\n",
       "1997-10-31    4.020833\n",
       "1997-11-30    4.375000\n",
       "1997-12-31    4.562500\n",
       "1998-01-31    4.825521\n",
       "1998-02-28    5.229167\n",
       "Freq: M, Name: Adj Close, dtype: float64"
      ]
     },
     "execution_count": 19,
     "metadata": {},
     "output_type": "execute_result"
    }
   ],
   "source": [
    "# Similarly monthly median\n",
    "monthly_median = amazon['Adj Close'].resample('M').median()\n",
    "\n",
    "monthly_median.head(10)"
   ]
  },
  {
   "cell_type": "code",
   "execution_count": 20,
   "metadata": {},
   "outputs": [
    {
     "data": {
      "image/png": "[encoded data removed]",
      "text/plain": [
       "<Figure size 936x432 with 1 Axes>"
      ]
     },
     "metadata": {
      "needs_background": "light"
     },
     "output_type": "display_data"
    }
   ],
   "source": [
    "monthly_median.plot(figsize=(13,6))\n",
    "plt.show()"
   ]
  },
  {
   "cell_type": "code",
   "execution_count": 21,
   "metadata": {},
   "outputs": [
    {
     "data": {
      "image/png": "[encoded data removed]",
      "text/plain": [
       "<Figure size 936x432 with 1 Axes>"
      ]
     },
     "metadata": {
      "needs_background": "light"
     },
     "output_type": "display_data"
    }
   ],
   "source": [
    "#Some customizationss\n",
    "monthly_median.plot(kind = 'area',figsize=(13,6))\n",
    "plt.show()"
   ]
  },
  {
   "cell_type": "code",
   "execution_count": 24,
   "metadata": {},
   "outputs": [
    {
     "data": {
      "text/plain": [
       "Date\n",
       "1997-05-15         NaN\n",
       "1997-05-16   -0.229166\n",
       "1997-05-19   -0.020834\n",
       "1997-05-20   -0.072916\n",
       "1997-05-21   -0.208334\n",
       "1997-05-22   -0.031250\n",
       "1997-05-23    0.104167\n",
       "1997-05-27    0.083333\n",
       "1997-05-28   -0.052083\n",
       "1997-05-29   -0.026042\n",
       "Name: Adj Close, dtype: float64"
      ]
     },
     "execution_count": 24,
     "metadata": {},
     "output_type": "execute_result"
    }
   ],
   "source": [
    "# Difference between stock prices\n",
    "amazon_delta = amazon['Adj Close'].diff()\n",
    "\n",
    "amazon_delta.head(10)"
   ]
  },
  {
   "cell_type": "code",
   "execution_count": 25,
   "metadata": {},
   "outputs": [
    {
     "data": {
      "text/plain": [
       "Date\n",
       "1997-05-15         NaN\n",
       "1997-05-16   -0.117021\n",
       "1997-05-19   -0.012049\n",
       "1997-05-20   -0.042683\n",
       "1997-05-21   -0.127389\n",
       "1997-05-22   -0.021898\n",
       "1997-05-23    0.074627\n",
       "1997-05-27    0.055555\n",
       "1997-05-28   -0.032895\n",
       "1997-05-29   -0.017007\n",
       "Name: Adj Close, dtype: float64"
      ]
     },
     "execution_count": 25,
     "metadata": {},
     "output_type": "execute_result"
    }
   ],
   "source": [
    "# % change on every day basis\n",
    "amazon_returns = amazon['Adj Close'].pct_change()\n",
    "\n",
    "amazon_returns.head(10)"
   ]
  },
  {
   "cell_type": "code",
   "execution_count": 26,
   "metadata": {},
   "outputs": [
    {
     "data": {
      "text/plain": [
       "Date\n",
       "1997-05-15         NaN\n",
       "1997-05-16         NaN\n",
       "1997-05-19         NaN\n",
       "1997-05-20         NaN\n",
       "1997-05-21         NaN\n",
       "1997-05-22   -0.064208\n",
       "1997-05-23   -0.025878\n",
       "1997-05-27   -0.012357\n",
       "1997-05-28   -0.010400\n",
       "1997-05-29    0.011677\n",
       "Name: Adj Close, dtype: float64"
      ]
     },
     "execution_count": 26,
     "metadata": {},
     "output_type": "execute_result"
    }
   ],
   "source": [
    "#Moving averages\n",
    "rolling_mean = amazon_returns.rolling(window = 5).mean()\n",
    "\n",
    "rolling_mean.head(10)"
   ]
  },
  {
   "cell_type": "code",
   "execution_count": 27,
   "metadata": {},
   "outputs": [
    {
     "data": {
      "text/plain": [
       "Date\n",
       "1997-05-15         NaN\n",
       "1997-05-16         NaN\n",
       "1997-05-19         NaN\n",
       "1997-05-20         NaN\n",
       "1997-05-21         NaN\n",
       "1997-05-22    0.054211\n",
       "1997-05-23    0.072276\n",
       "1997-05-27    0.081273\n",
       "1997-05-28    0.080474\n",
       "1997-05-29    0.049560\n",
       "Name: Adj Close, dtype: float64"
      ]
     },
     "execution_count": 27,
     "metadata": {},
     "output_type": "execute_result"
    }
   ],
   "source": [
    "rolling_std = amazon_returns.rolling(window = 5).std()\n",
    "\n",
    "rolling_std.head(10)"
   ]
  },
  {
   "cell_type": "code",
   "execution_count": null,
   "metadata": {},
   "outputs": [],
   "source": []
  }
 ],
 "metadata": {
  "kernelspec": {
   "display_name": "Python 3",
   "language": "python",
   "name": "python3"
  },
  "language_info": {
   "codemirror_mode": {
    "name": "ipython",
    "version": 3
   },
   "file_extension": ".py",
   "mimetype": "text/x-python",
   "name": "python",
   "nbconvert_exporter": "python",
   "pygments_lexer": "ipython3",
   "version": "3.7.4"
  }
 },
 "nbformat": 4,
 "nbformat_minor": 2
}
